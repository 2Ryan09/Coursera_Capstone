{
 "cells": [
  {
   "cell_type": "markdown",
   "metadata": {},
   "source": [
    "# Applied Data Science Captstone Project\n",
    "\n",
    "The Battle of Neighborhoods"
   ]
  },
  {
   "cell_type": "markdown",
   "metadata": {},
   "source": [
    "## Introduction\n",
    "\n",
    "People often find themselves in a situations where they have to move grand distances for a career, family obligations, or even a change of scenary. However, moving to a new city can be an extremely difficult process as they must leave the familiarity of their old home to an often unforgiving new city. One way to overcome this is to move into a neighborhood that most resembles their's back home.\n",
    "\n",
    "Within this capstone, I aim to tackle this exact problem using a case study with Toronto and New York City. Both are massive cities with huge job markets, making them prime locations for job seekers to migrate both to and between. I will be analyzing the neighborhoods within each city and cross-comparing them to establish which neighborhoods in one city are most like those in the other. Finding similar neighborhoods will offer guidance to those wishing to move between them to find the neighborhood that most feels like home."
   ]
  },
  {
   "cell_type": "markdown",
   "metadata": {},
   "source": [
    "## Data Required and Utilization\n",
    "\n",
    "The primary dataset that will be used is that recommended by the IBM learning team throughout the period of this capstone: Foursquare. This dataset alone allows for a substantial comparison between the neighborhoods of the two cities, however it only details the local attractions and places of business. Two neighborhoods could be extremely similar in this perspective, however they might be dramatically different in other aspects: most notably cost of housing. For New York, I will be use the housing data supplied by [Zillow](https://www.zillow.com/research/data/) as they have a massive real estate data collection for U.S. cities. However, they do not have this data readily available for Canadian cities. For Toronto, I will be using the data provided from the [Canada Mortgage and Housing Corporation](https://www.cmhc-schl.gc.ca/en/data-and-research/data-tables/price-quartiles-averages-absorbed-homeowner-condo-units). For an average house price, a single-family home will be used.\n",
    "\n",
    "The data will be combined and aggregated by neighborhood. If a neighborhood is missing from either dataset, that neighborhood's house cost will be made equal to it's nearest neighbor (established through distance to neighborhood center). Once aggregated by neighborhood, several clustering algorithms (k-Means, Heirarchical, and DBSCN)"
   ]
  },
  {
   "cell_type": "code",
   "execution_count": null,
   "metadata": {},
   "outputs": [],
   "source": []
  }
 ],
 "metadata": {
  "kernelspec": {
   "display_name": "Python",
   "language": "python",
   "name": "conda-env-python-py"
  },
  "language_info": {
   "codemirror_mode": {
    "name": "ipython",
    "version": 3
   },
   "file_extension": ".py",
   "mimetype": "text/x-python",
   "name": "python",
   "nbconvert_exporter": "python",
   "pygments_lexer": "ipython3",
   "version": "3.6.11"
  }
 },
 "nbformat": 4,
 "nbformat_minor": 4
}
